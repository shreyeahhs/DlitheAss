{
 "cells": [
  {
   "cell_type": "code",
   "execution_count": 2,
   "id": "d2784193",
   "metadata": {},
   "outputs": [
    {
     "name": "stdout",
     "output_type": "stream",
     "text": [
      "* * * * *\n",
      "* * * * *\n",
      "* * * * *\n",
      "* * * * *\n",
      "* * * * *\n"
     ]
    }
   ],
   "source": [
    "#Assignment 1 \n",
    "\n",
    "for i in range(0,5):\n",
    "    print(\"* * * * *\")"
   ]
  },
  {
   "cell_type": "code",
   "execution_count": 3,
   "id": "658d8311",
   "metadata": {},
   "outputs": [
    {
     "name": "stdout",
     "output_type": "stream",
     "text": [
      "* * * * * \n",
      " * * * * \n",
      "  * * * \n",
      "   * * \n",
      "    * \n"
     ]
    }
   ],
   "source": [
    "#Assignment 2 (Inverse Triangle)\n",
    "def inverse_triangle(rows):\n",
    "    for i in range(rows, 0, -1):\n",
    "        print(\" \" * (rows - i) + \"* \" * i)\n",
    "\n",
    "# Example usage with 5 rows\n",
    "inverse_triangle(5)"
   ]
  },
  {
   "cell_type": "code",
   "execution_count": 4,
   "id": "e73c8edb",
   "metadata": {},
   "outputs": [
    {
     "name": "stdout",
     "output_type": "stream",
     "text": [
      "5 4 3 2 1\n",
      " 4 3 2 1\n",
      "  3 2 1\n",
      "   2 1\n",
      "    1\n"
     ]
    }
   ],
   "source": [
    "def inverse_triangle(rows):\n",
    "    for i in range(rows, 0, -1):\n",
    "        print(\" \" * (rows - i) + \" \".join(str(j) for j in range(i, 0, -1)))\n",
    "\n",
    "# Example usage with 5 rows\n",
    "inverse_triangle(5)"
   ]
  },
  {
   "cell_type": "code",
   "execution_count": 5,
   "id": "80cf43dd",
   "metadata": {},
   "outputs": [
    {
     "name": "stdout",
     "output_type": "stream",
     "text": [
      "*       * \n",
      "  *   *   \n",
      "    *     \n",
      "  *   *   \n",
      "*       * \n"
     ]
    }
   ],
   "source": [
    "# Assignment 3 (synbol X using *)\n",
    "def X(rows):\n",
    "    for i in range(rows):\n",
    "        for j in range(rows):\n",
    "            if i == j or j == rows - i - 1:\n",
    "                print(\"*\", end=\" \")\n",
    "            else:\n",
    "                print(\" \", end=\" \")\n",
    "        print()\n",
    "\n",
    "# Example usage with 5 rows\n",
    "X(5)"
   ]
  },
  {
   "cell_type": "code",
   "execution_count": null,
   "id": "916657cf",
   "metadata": {},
   "outputs": [],
   "source": []
  }
 ],
 "metadata": {
  "kernelspec": {
   "display_name": "Python 3 (ipykernel)",
   "language": "python",
   "name": "python3"
  },
  "language_info": {
   "codemirror_mode": {
    "name": "ipython",
    "version": 3
   },
   "file_extension": ".py",
   "mimetype": "text/x-python",
   "name": "python",
   "nbconvert_exporter": "python",
   "pygments_lexer": "ipython3",
   "version": "3.11.5"
  }
 },
 "nbformat": 4,
 "nbformat_minor": 5
}
